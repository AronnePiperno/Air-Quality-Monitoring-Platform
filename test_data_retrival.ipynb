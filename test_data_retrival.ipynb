{
 "cells": [
  {
   "cell_type": "code",
   "execution_count": 1,
   "metadata": {
    "collapsed": true,
    "ExecuteTime": {
     "end_time": "2023-05-23T07:42:58.698108953Z",
     "start_time": "2023-05-23T07:42:57.476471901Z"
    }
   },
   "outputs": [
    {
     "name": "stdout",
     "output_type": "stream",
     "text": [
      "<xarray.Dataset>\n",
      "Dimensions:                                (time: 1, scanline: 7911498,\n",
      "                                            ground_pixel: 215, corner: 4,\n",
      "                                            layer: 50)\n",
      "Coordinates:\n",
      "  * corner                                 (corner) float64 0.0 1.0 2.0 3.0\n",
      "  * ground_pixel                           (ground_pixel) float64 0.0 ... 214.0\n",
      "    latitude                               (time, scanline, ground_pixel) float32 dask.array<chunksize=(1, 934, 108), meta=np.ndarray>\n",
      "  * layer                                  (layer) float32 4.95e+04 ... 500.0\n",
      "    longitude                              (time, scanline, ground_pixel) float32 dask.array<chunksize=(1, 934, 108), meta=np.ndarray>\n",
      "  * scanline                               (scanline) float64 0.0 ... 4.173e+03\n",
      "  * time                                   (time) datetime64[ns] 2023-05-04\n",
      "Data variables:\n",
      "    carbonmonoxide_total_column            (time, scanline, ground_pixel) float32 dask.array<chunksize=(1, 934, 108), meta=np.ndarray>\n",
      "    carbonmonoxide_total_column_corrected  (time, scanline, ground_pixel) float32 dask.array<chunksize=(1, 934, 108), meta=np.ndarray>\n",
      "    carbonmonoxide_total_column_precision  (time, scanline, ground_pixel) float32 dask.array<chunksize=(1, 934, 108), meta=np.ndarray>\n",
      "    delta_time                             (time, scanline) datetime64[ns] dask.array<chunksize=(1, 3736), meta=np.ndarray>\n",
      "    qa_value                               (time, scanline, ground_pixel) float32 dask.array<chunksize=(1, 1868, 108), meta=np.ndarray>\n",
      "    time_utc                               (time, scanline) object dask.array<chunksize=(1, 3736), meta=np.ndarray>\n"
     ]
    }
   ],
   "source": [
    "import xarray as xr\n",
    "import os\n",
    "\n",
    "\n",
    "db_path = './db'\n",
    "pro = 'L2__CO____'\n"
   ]
  },
  {
   "cell_type": "code",
   "execution_count": 5,
   "outputs": [
    {
     "name": "stdout",
     "output_type": "stream",
     "text": [
      "<xarray.Dataset>\n",
      "Dimensions:                                (time: 1, scanline: 7911498,\n",
      "                                            ground_pixel: 215, corner: 4,\n",
      "                                            layer: 50)\n",
      "Coordinates:\n",
      "  * corner                                 (corner) float64 0.0 1.0 2.0 3.0\n",
      "  * ground_pixel                           (ground_pixel) float64 0.0 ... 214.0\n",
      "    latitude                               (time, scanline, ground_pixel) float32 dask.array<chunksize=(1, 934, 108), meta=np.ndarray>\n",
      "  * layer                                  (layer) float32 4.95e+04 ... 500.0\n",
      "    longitude                              (time, scanline, ground_pixel) float32 dask.array<chunksize=(1, 934, 108), meta=np.ndarray>\n",
      "  * scanline                               (scanline) float64 0.0 ... 4.173e+03\n",
      "  * time                                   (time) datetime64[ns] 2023-05-04\n",
      "Data variables:\n",
      "    carbonmonoxide_total_column            (time, scanline, ground_pixel) float32 dask.array<chunksize=(1, 934, 108), meta=np.ndarray>\n",
      "    carbonmonoxide_total_column_corrected  (time, scanline, ground_pixel) float32 dask.array<chunksize=(1, 934, 108), meta=np.ndarray>\n",
      "    carbonmonoxide_total_column_precision  (time, scanline, ground_pixel) float32 dask.array<chunksize=(1, 934, 108), meta=np.ndarray>\n",
      "    delta_time                             (time, scanline) datetime64[ns] dask.array<chunksize=(1, 3736), meta=np.ndarray>\n",
      "    qa_value                               (time, scanline, ground_pixel) float32 dask.array<chunksize=(1, 1868, 108), meta=np.ndarray>\n",
      "    time_utc                               (time, scanline) object dask.array<chunksize=(1, 3736), meta=np.ndarray>\n"
     ]
    }
   ],
   "source": [
    "ds = xr.open_zarr(os.path.join(db_path, pro))\n",
    "print(ds)"
   ],
   "metadata": {
    "collapsed": false,
    "ExecuteTime": {
     "end_time": "2023-05-23T07:46:51.356555271Z",
     "start_time": "2023-05-23T07:46:51.161482398Z"
    }
   }
  },
  {
   "cell_type": "code",
   "execution_count": 16,
   "outputs": [
    {
     "data": {
      "text/plain": "<xarray.DataArray 'time_utc' (scanline: 7911498)>\ndask.array<getitem, shape=(7911498,), dtype=object, chunksize=(3736,), chunktype=numpy.ndarray>\nCoordinates:\n  * scanline  (scanline) float64 0.0 1.0 2.0 ... 4.171e+03 4.172e+03 4.173e+03\n    time      datetime64[ns] 2023-05-04\nAttributes:\n    long_name:  Time of observation as ISO 8601 date-time string",
      "text/html": "<div><svg style=\"position: absolute; width: 0; height: 0; overflow: hidden\">\n<defs>\n<symbol id=\"icon-database\" viewBox=\"0 0 32 32\">\n<path d=\"M16 0c-8.837 0-16 2.239-16 5v4c0 2.761 7.163 5 16 5s16-2.239 16-5v-4c0-2.761-7.163-5-16-5z\"></path>\n<path d=\"M16 17c-8.837 0-16-2.239-16-5v6c0 2.761 7.163 5 16 5s16-2.239 16-5v-6c0 2.761-7.163 5-16 5z\"></path>\n<path d=\"M16 26c-8.837 0-16-2.239-16-5v6c0 2.761 7.163 5 16 5s16-2.239 16-5v-6c0 2.761-7.163 5-16 5z\"></path>\n</symbol>\n<symbol id=\"icon-file-text2\" viewBox=\"0 0 32 32\">\n<path d=\"M28.681 7.159c-0.694-0.947-1.662-2.053-2.724-3.116s-2.169-2.030-3.116-2.724c-1.612-1.182-2.393-1.319-2.841-1.319h-15.5c-1.378 0-2.5 1.121-2.5 2.5v27c0 1.378 1.122 2.5 2.5 2.5h23c1.378 0 2.5-1.122 2.5-2.5v-19.5c0-0.448-0.137-1.23-1.319-2.841zM24.543 5.457c0.959 0.959 1.712 1.825 2.268 2.543h-4.811v-4.811c0.718 0.556 1.584 1.309 2.543 2.268zM28 29.5c0 0.271-0.229 0.5-0.5 0.5h-23c-0.271 0-0.5-0.229-0.5-0.5v-27c0-0.271 0.229-0.5 0.5-0.5 0 0 15.499-0 15.5 0v7c0 0.552 0.448 1 1 1h7v19.5z\"></path>\n<path d=\"M23 26h-14c-0.552 0-1-0.448-1-1s0.448-1 1-1h14c0.552 0 1 0.448 1 1s-0.448 1-1 1z\"></path>\n<path d=\"M23 22h-14c-0.552 0-1-0.448-1-1s0.448-1 1-1h14c0.552 0 1 0.448 1 1s-0.448 1-1 1z\"></path>\n<path d=\"M23 18h-14c-0.552 0-1-0.448-1-1s0.448-1 1-1h14c0.552 0 1 0.448 1 1s-0.448 1-1 1z\"></path>\n</symbol>\n</defs>\n</svg>\n<style>/* CSS stylesheet for displaying xarray objects in jupyterlab.\n *\n */\n\n:root {\n  --xr-font-color0: var(--jp-content-font-color0, rgba(0, 0, 0, 1));\n  --xr-font-color2: var(--jp-content-font-color2, rgba(0, 0, 0, 0.54));\n  --xr-font-color3: var(--jp-content-font-color3, rgba(0, 0, 0, 0.38));\n  --xr-border-color: var(--jp-border-color2, #e0e0e0);\n  --xr-disabled-color: var(--jp-layout-color3, #bdbdbd);\n  --xr-background-color: var(--jp-layout-color0, white);\n  --xr-background-color-row-even: var(--jp-layout-color1, white);\n  --xr-background-color-row-odd: var(--jp-layout-color2, #eeeeee);\n}\n\nhtml[theme=dark],\nbody[data-theme=dark],\nbody.vscode-dark {\n  --xr-font-color0: rgba(255, 255, 255, 1);\n  --xr-font-color2: rgba(255, 255, 255, 0.54);\n  --xr-font-color3: rgba(255, 255, 255, 0.38);\n  --xr-border-color: #1F1F1F;\n  --xr-disabled-color: #515151;\n  --xr-background-color: #111111;\n  --xr-background-color-row-even: #111111;\n  --xr-background-color-row-odd: #313131;\n}\n\n.xr-wrap {\n  display: block !important;\n  min-width: 300px;\n  max-width: 700px;\n}\n\n.xr-text-repr-fallback {\n  /* fallback to plain text repr when CSS is not injected (untrusted notebook) */\n  display: none;\n}\n\n.xr-header {\n  padding-top: 6px;\n  padding-bottom: 6px;\n  margin-bottom: 4px;\n  border-bottom: solid 1px var(--xr-border-color);\n}\n\n.xr-header > div,\n.xr-header > ul {\n  display: inline;\n  margin-top: 0;\n  margin-bottom: 0;\n}\n\n.xr-obj-type,\n.xr-array-name {\n  margin-left: 2px;\n  margin-right: 10px;\n}\n\n.xr-obj-type {\n  color: var(--xr-font-color2);\n}\n\n.xr-sections {\n  padding-left: 0 !important;\n  display: grid;\n  grid-template-columns: 150px auto auto 1fr 20px 20px;\n}\n\n.xr-section-item {\n  display: contents;\n}\n\n.xr-section-item input {\n  display: none;\n}\n\n.xr-section-item input + label {\n  color: var(--xr-disabled-color);\n}\n\n.xr-section-item input:enabled + label {\n  cursor: pointer;\n  color: var(--xr-font-color2);\n}\n\n.xr-section-item input:enabled + label:hover {\n  color: var(--xr-font-color0);\n}\n\n.xr-section-summary {\n  grid-column: 1;\n  color: var(--xr-font-color2);\n  font-weight: 500;\n}\n\n.xr-section-summary > span {\n  display: inline-block;\n  padding-left: 0.5em;\n}\n\n.xr-section-summary-in:disabled + label {\n  color: var(--xr-font-color2);\n}\n\n.xr-section-summary-in + label:before {\n  display: inline-block;\n  content: '►';\n  font-size: 11px;\n  width: 15px;\n  text-align: center;\n}\n\n.xr-section-summary-in:disabled + label:before {\n  color: var(--xr-disabled-color);\n}\n\n.xr-section-summary-in:checked + label:before {\n  content: '▼';\n}\n\n.xr-section-summary-in:checked + label > span {\n  display: none;\n}\n\n.xr-section-summary,\n.xr-section-inline-details {\n  padding-top: 4px;\n  padding-bottom: 4px;\n}\n\n.xr-section-inline-details {\n  grid-column: 2 / -1;\n}\n\n.xr-section-details {\n  display: none;\n  grid-column: 1 / -1;\n  margin-bottom: 5px;\n}\n\n.xr-section-summary-in:checked ~ .xr-section-details {\n  display: contents;\n}\n\n.xr-array-wrap {\n  grid-column: 1 / -1;\n  display: grid;\n  grid-template-columns: 20px auto;\n}\n\n.xr-array-wrap > label {\n  grid-column: 1;\n  vertical-align: top;\n}\n\n.xr-preview {\n  color: var(--xr-font-color3);\n}\n\n.xr-array-preview,\n.xr-array-data {\n  padding: 0 5px !important;\n  grid-column: 2;\n}\n\n.xr-array-data,\n.xr-array-in:checked ~ .xr-array-preview {\n  display: none;\n}\n\n.xr-array-in:checked ~ .xr-array-data,\n.xr-array-preview {\n  display: inline-block;\n}\n\n.xr-dim-list {\n  display: inline-block !important;\n  list-style: none;\n  padding: 0 !important;\n  margin: 0;\n}\n\n.xr-dim-list li {\n  display: inline-block;\n  padding: 0;\n  margin: 0;\n}\n\n.xr-dim-list:before {\n  content: '(';\n}\n\n.xr-dim-list:after {\n  content: ')';\n}\n\n.xr-dim-list li:not(:last-child):after {\n  content: ',';\n  padding-right: 5px;\n}\n\n.xr-has-index {\n  font-weight: bold;\n}\n\n.xr-var-list,\n.xr-var-item {\n  display: contents;\n}\n\n.xr-var-item > div,\n.xr-var-item label,\n.xr-var-item > .xr-var-name span {\n  background-color: var(--xr-background-color-row-even);\n  margin-bottom: 0;\n}\n\n.xr-var-item > .xr-var-name:hover span {\n  padding-right: 5px;\n}\n\n.xr-var-list > li:nth-child(odd) > div,\n.xr-var-list > li:nth-child(odd) > label,\n.xr-var-list > li:nth-child(odd) > .xr-var-name span {\n  background-color: var(--xr-background-color-row-odd);\n}\n\n.xr-var-name {\n  grid-column: 1;\n}\n\n.xr-var-dims {\n  grid-column: 2;\n}\n\n.xr-var-dtype {\n  grid-column: 3;\n  text-align: right;\n  color: var(--xr-font-color2);\n}\n\n.xr-var-preview {\n  grid-column: 4;\n}\n\n.xr-index-preview {\n  grid-column: 2 / 5;\n  color: var(--xr-font-color2);\n}\n\n.xr-var-name,\n.xr-var-dims,\n.xr-var-dtype,\n.xr-preview,\n.xr-attrs dt {\n  white-space: nowrap;\n  overflow: hidden;\n  text-overflow: ellipsis;\n  padding-right: 10px;\n}\n\n.xr-var-name:hover,\n.xr-var-dims:hover,\n.xr-var-dtype:hover,\n.xr-attrs dt:hover {\n  overflow: visible;\n  width: auto;\n  z-index: 1;\n}\n\n.xr-var-attrs,\n.xr-var-data,\n.xr-index-data {\n  display: none;\n  background-color: var(--xr-background-color) !important;\n  padding-bottom: 5px !important;\n}\n\n.xr-var-attrs-in:checked ~ .xr-var-attrs,\n.xr-var-data-in:checked ~ .xr-var-data,\n.xr-index-data-in:checked ~ .xr-index-data {\n  display: block;\n}\n\n.xr-var-data > table {\n  float: right;\n}\n\n.xr-var-name span,\n.xr-var-data,\n.xr-index-name div,\n.xr-index-data,\n.xr-attrs {\n  padding-left: 25px !important;\n}\n\n.xr-attrs,\n.xr-var-attrs,\n.xr-var-data,\n.xr-index-data {\n  grid-column: 1 / -1;\n}\n\ndl.xr-attrs {\n  padding: 0;\n  margin: 0;\n  display: grid;\n  grid-template-columns: 125px auto;\n}\n\n.xr-attrs dt,\n.xr-attrs dd {\n  padding: 0;\n  margin: 0;\n  float: left;\n  padding-right: 10px;\n  width: auto;\n}\n\n.xr-attrs dt {\n  font-weight: normal;\n  grid-column: 1;\n}\n\n.xr-attrs dt:hover span {\n  display: inline-block;\n  background: var(--xr-background-color);\n  padding-right: 10px;\n}\n\n.xr-attrs dd {\n  grid-column: 2;\n  white-space: pre-wrap;\n  word-break: break-all;\n}\n\n.xr-icon-database,\n.xr-icon-file-text2,\n.xr-no-icon {\n  display: inline-block;\n  vertical-align: middle;\n  width: 1em;\n  height: 1.5em !important;\n  stroke-width: 0;\n  stroke: currentColor;\n  fill: currentColor;\n}\n</style><pre class='xr-text-repr-fallback'>&lt;xarray.DataArray &#x27;time_utc&#x27; (scanline: 7911498)&gt;\ndask.array&lt;getitem, shape=(7911498,), dtype=object, chunksize=(3736,), chunktype=numpy.ndarray&gt;\nCoordinates:\n  * scanline  (scanline) float64 0.0 1.0 2.0 ... 4.171e+03 4.172e+03 4.173e+03\n    time      datetime64[ns] 2023-05-04\nAttributes:\n    long_name:  Time of observation as ISO 8601 date-time string</pre><div class='xr-wrap' style='display:none'><div class='xr-header'><div class='xr-obj-type'>xarray.DataArray</div><div class='xr-array-name'>'time_utc'</div><ul class='xr-dim-list'><li><span class='xr-has-index'>scanline</span>: 7911498</li></ul></div><ul class='xr-sections'><li class='xr-section-item'><div class='xr-array-wrap'><input id='section-0fc5cc5e-1493-4240-8b5b-249f01658702' class='xr-array-in' type='checkbox' checked><label for='section-0fc5cc5e-1493-4240-8b5b-249f01658702' title='Show/hide data repr'><svg class='icon xr-icon-database'><use xlink:href='#icon-database'></use></svg></label><div class='xr-array-preview xr-preview'><span>dask.array&lt;chunksize=(3736,), meta=np.ndarray&gt;</span></div><div class='xr-array-data'><table>\n    <tr>\n        <td>\n            <table style=\"border-collapse: collapse;\">\n                <thead>\n                    <tr>\n                        <td> </td>\n                        <th> Array </th>\n                        <th> Chunk </th>\n                    </tr>\n                </thead>\n                <tbody>\n                    \n                    <tr>\n                        <th> Bytes </th>\n                        <td> 60.36 MiB </td>\n                        <td> 29.19 kiB </td>\n                    </tr>\n                    \n                    <tr>\n                        <th> Shape </th>\n                        <td> (7911498,) </td>\n                        <td> (3736,) </td>\n                    </tr>\n                    <tr>\n                        <th> Dask graph </th>\n                        <td colspan=\"2\"> 2118 chunks in 3 graph layers </td>\n                    </tr>\n                    <tr>\n                        <th> Data type </th>\n                        <td colspan=\"2\"> object numpy.ndarray </td>\n                    </tr>\n                </tbody>\n            </table>\n        </td>\n        <td>\n        <svg width=\"170\" height=\"75\" style=\"stroke:rgb(0,0,0);stroke-width:1\" >\n\n  <!-- Horizontal lines -->\n  <line x1=\"0\" y1=\"0\" x2=\"120\" y2=\"0\" style=\"stroke-width:2\" />\n  <line x1=\"0\" y1=\"25\" x2=\"120\" y2=\"25\" style=\"stroke-width:2\" />\n\n  <!-- Vertical lines -->\n  <line x1=\"0\" y1=\"0\" x2=\"0\" y2=\"25\" style=\"stroke-width:2\" />\n  <line x1=\"6\" y1=\"0\" x2=\"6\" y2=\"25\" />\n  <line x1=\"12\" y1=\"0\" x2=\"12\" y2=\"25\" />\n  <line x1=\"18\" y1=\"0\" x2=\"18\" y2=\"25\" />\n  <line x1=\"25\" y1=\"0\" x2=\"25\" y2=\"25\" />\n  <line x1=\"31\" y1=\"0\" x2=\"31\" y2=\"25\" />\n  <line x1=\"37\" y1=\"0\" x2=\"37\" y2=\"25\" />\n  <line x1=\"44\" y1=\"0\" x2=\"44\" y2=\"25\" />\n  <line x1=\"50\" y1=\"0\" x2=\"50\" y2=\"25\" />\n  <line x1=\"56\" y1=\"0\" x2=\"56\" y2=\"25\" />\n  <line x1=\"63\" y1=\"0\" x2=\"63\" y2=\"25\" />\n  <line x1=\"69\" y1=\"0\" x2=\"69\" y2=\"25\" />\n  <line x1=\"75\" y1=\"0\" x2=\"75\" y2=\"25\" />\n  <line x1=\"82\" y1=\"0\" x2=\"82\" y2=\"25\" />\n  <line x1=\"88\" y1=\"0\" x2=\"88\" y2=\"25\" />\n  <line x1=\"94\" y1=\"0\" x2=\"94\" y2=\"25\" />\n  <line x1=\"101\" y1=\"0\" x2=\"101\" y2=\"25\" />\n  <line x1=\"107\" y1=\"0\" x2=\"107\" y2=\"25\" />\n  <line x1=\"113\" y1=\"0\" x2=\"113\" y2=\"25\" />\n  <line x1=\"120\" y1=\"0\" x2=\"120\" y2=\"25\" style=\"stroke-width:2\" />\n\n  <!-- Colored Rectangle -->\n  <polygon points=\"0.0,0.0 120.0,0.0 120.0,25.412616514582485 0.0,25.412616514582485\" style=\"fill:#8B4903A0;stroke-width:0\"/>\n\n  <!-- Text -->\n  <text x=\"60.000000\" y=\"45.412617\" font-size=\"1.0rem\" font-weight=\"100\" text-anchor=\"middle\" >7911498</text>\n  <text x=\"140.000000\" y=\"12.706308\" font-size=\"1.0rem\" font-weight=\"100\" text-anchor=\"middle\" transform=\"rotate(0,140.000000,12.706308)\">1</text>\n</svg>\n        </td>\n    </tr>\n</table></div></div></li><li class='xr-section-item'><input id='section-c172a019-52e2-4da9-94ce-d5886d46f1f2' class='xr-section-summary-in' type='checkbox'  checked><label for='section-c172a019-52e2-4da9-94ce-d5886d46f1f2' class='xr-section-summary' >Coordinates: <span>(2)</span></label><div class='xr-section-inline-details'></div><div class='xr-section-details'><ul class='xr-var-list'><li class='xr-var-item'><div class='xr-var-name'><span class='xr-has-index'>scanline</span></div><div class='xr-var-dims'>(scanline)</div><div class='xr-var-dtype'>float64</div><div class='xr-var-preview xr-preview'>0.0 1.0 2.0 ... 4.172e+03 4.173e+03</div><input id='attrs-c7a108f1-a015-4355-81d7-e3d09ed9535a' class='xr-var-attrs-in' type='checkbox' ><label for='attrs-c7a108f1-a015-4355-81d7-e3d09ed9535a' title='Show/Hide attributes'><svg class='icon xr-icon-file-text2'><use xlink:href='#icon-file-text2'></use></svg></label><input id='data-0848c6b4-f5b1-4c87-86ad-711b7996a64a' class='xr-var-data-in' type='checkbox'><label for='data-0848c6b4-f5b1-4c87-86ad-711b7996a64a' title='Show/Hide data repr'><svg class='icon xr-icon-database'><use xlink:href='#icon-database'></use></svg></label><div class='xr-var-attrs'><dl class='xr-attrs'><dt><span>axis :</span></dt><dd>Y</dd><dt><span>comment :</span></dt><dd>This coordinate variable defines the indices along track; index starts at 0</dd><dt><span>long_name :</span></dt><dd>along-track dimension index</dd><dt><span>units :</span></dt><dd>1</dd></dl></div><div class='xr-var-data'><pre>array([0.000e+00, 1.000e+00, 2.000e+00, ..., 4.171e+03, 4.172e+03, 4.173e+03])</pre></div></li><li class='xr-var-item'><div class='xr-var-name'><span>time</span></div><div class='xr-var-dims'>()</div><div class='xr-var-dtype'>datetime64[ns]</div><div class='xr-var-preview xr-preview'>2023-05-04</div><input id='attrs-fa5a1147-44d1-4282-a4d4-d628b0651591' class='xr-var-attrs-in' type='checkbox' ><label for='attrs-fa5a1147-44d1-4282-a4d4-d628b0651591' title='Show/Hide attributes'><svg class='icon xr-icon-file-text2'><use xlink:href='#icon-file-text2'></use></svg></label><input id='data-348aa580-ffee-487b-92cd-b579562a0960' class='xr-var-data-in' type='checkbox'><label for='data-348aa580-ffee-487b-92cd-b579562a0960' title='Show/Hide data repr'><svg class='icon xr-icon-database'><use xlink:href='#icon-database'></use></svg></label><div class='xr-var-attrs'><dl class='xr-attrs'><dt><span>axis :</span></dt><dd>T</dd><dt><span>comment :</span></dt><dd>The time in this variable corresponds to the time in the time_reference global attribute</dd><dt><span>long_name :</span></dt><dd>reference time for the measurements</dd><dt><span>standard_name :</span></dt><dd>time</dd></dl></div><div class='xr-var-data'><pre>array(&#x27;2023-05-04T00:00:00.000000000&#x27;, dtype=&#x27;datetime64[ns]&#x27;)</pre></div></li></ul></div></li><li class='xr-section-item'><input id='section-88e4b1c8-8a8b-401b-9bfa-73accade711c' class='xr-section-summary-in' type='checkbox'  ><label for='section-88e4b1c8-8a8b-401b-9bfa-73accade711c' class='xr-section-summary' >Indexes: <span>(1)</span></label><div class='xr-section-inline-details'></div><div class='xr-section-details'><ul class='xr-var-list'><li class='xr-var-item'><div class='xr-index-name'><div>scanline</div></div><div class='xr-index-preview'>PandasIndex</div><div></div><input id='index-2eb10936-71ec-45ed-af5c-6cc5b8c6ff86' class='xr-index-data-in' type='checkbox'/><label for='index-2eb10936-71ec-45ed-af5c-6cc5b8c6ff86' title='Show/Hide index repr'><svg class='icon xr-icon-database'><use xlink:href='#icon-database'></use></svg></label><div class='xr-index-data'><pre>PandasIndex(Index([   0.0,    1.0,    2.0,    3.0,    4.0,    5.0,    6.0,    7.0,    8.0,\n          9.0,\n       ...\n       4164.0, 4165.0, 4166.0, 4167.0, 4168.0, 4169.0, 4170.0, 4171.0, 4172.0,\n       4173.0],\n      dtype=&#x27;float64&#x27;, name=&#x27;scanline&#x27;, length=7911498))</pre></div></li></ul></div></li><li class='xr-section-item'><input id='section-219bb217-6479-46ee-94d9-6a09cd5b3440' class='xr-section-summary-in' type='checkbox'  checked><label for='section-219bb217-6479-46ee-94d9-6a09cd5b3440' class='xr-section-summary' >Attributes: <span>(1)</span></label><div class='xr-section-inline-details'></div><div class='xr-section-details'><dl class='xr-attrs'><dt><span>long_name :</span></dt><dd>Time of observation as ISO 8601 date-time string</dd></dl></div></li></ul></div></div>"
     },
     "execution_count": 16,
     "metadata": {},
     "output_type": "execute_result"
    }
   ],
   "source": [
    "time = ds['time_utc']\n",
    "time\n",
    "time[0]"
   ],
   "metadata": {
    "collapsed": false,
    "ExecuteTime": {
     "end_time": "2023-05-23T08:01:58.348871780Z",
     "start_time": "2023-05-23T08:01:58.307650195Z"
    }
   }
  },
  {
   "cell_type": "code",
   "execution_count": 17,
   "outputs": [
    {
     "data": {
      "text/plain": "array(['2023-04-01T09:13:54.223000Z', '2023-04-01T09:13:55.063000Z',\n       '2023-04-01T09:13:55.903000Z', ..., '2023-05-04T15:02:12.121000Z',\n       '2023-05-04T15:02:12.961000Z', '2023-05-04T15:02:13.801000Z'],\n      dtype=object)"
     },
     "execution_count": 17,
     "metadata": {},
     "output_type": "execute_result"
    }
   ],
   "source": [
    "time[0].values"
   ],
   "metadata": {
    "collapsed": false,
    "ExecuteTime": {
     "end_time": "2023-05-23T08:02:11.771485061Z",
     "start_time": "2023-05-23T08:02:09.893724490Z"
    }
   }
  },
  {
   "cell_type": "code",
   "execution_count": null,
   "outputs": [],
   "source": [],
   "metadata": {
    "collapsed": false
   }
  }
 ],
 "metadata": {
  "kernelspec": {
   "display_name": "Python 3",
   "language": "python",
   "name": "python3"
  },
  "language_info": {
   "codemirror_mode": {
    "name": "ipython",
    "version": 2
   },
   "file_extension": ".py",
   "mimetype": "text/x-python",
   "name": "python",
   "nbconvert_exporter": "python",
   "pygments_lexer": "ipython2",
   "version": "2.7.6"
  }
 },
 "nbformat": 4,
 "nbformat_minor": 0
}
