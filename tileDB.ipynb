{
 "cells": [
  {
   "cell_type": "code",
   "execution_count": 3,
   "metadata": {
    "collapsed": true,
    "ExecuteTime": {
     "end_time": "2023-05-15T08:09:35.913082274Z",
     "start_time": "2023-05-15T08:09:35.907643931Z"
    }
   },
   "outputs": [
    {
     "data": {
      "text/plain": "'0.21.3'"
     },
     "execution_count": 3,
     "metadata": {},
     "output_type": "execute_result"
    }
   ],
   "source": [
    "import tiledb\n",
    "\n",
    "tiledb.__version__"
   ]
  },
  {
   "cell_type": "code",
   "execution_count": 4,
   "outputs": [
    {
     "data": {
      "text/plain": "(2, 15, 2)"
     },
     "execution_count": 4,
     "metadata": {},
     "output_type": "execute_result"
    }
   ],
   "source": [
    "tiledb.libtiledb.version()"
   ],
   "metadata": {
    "collapsed": false,
    "ExecuteTime": {
     "end_time": "2023-05-15T08:09:36.993287751Z",
     "start_time": "2023-05-15T08:09:36.989194456Z"
    }
   }
  },
  {
   "cell_type": "code",
   "execution_count": 5,
   "outputs": [
    {
     "data": {
      "text/plain": "DataspaceCreator()\nDefault NetCDF file: ./S5P_OFFL_L2__CH4____20220315T095218_20220315T113349_22899_02_020301_20220317T015346.nc\nDeault NetCDF group path: /",
      "text/html": "<h4>NetCDF4ConverterEngine</h4>\n<ul>\n<li>\nShared Dimensions\n</li>\n<li>\nArray Creators\n</li>\n</ul>\n\n<ul>\n<li>Default NetCDF file: './S5P_OFFL_L2__CH4____20220315T095218_20220315T113349_22899_02_020301_20220317T015346.nc'</li>\n<li>Default NetCDF group path: '/'</li>\n</ul>\n"
     },
     "execution_count": 5,
     "metadata": {},
     "output_type": "execute_result"
    }
   ],
   "source": [
    "import tiledb.cf\n",
    "import numpy as np\n",
    "\n",
    "file = './S5P_OFFL_L2__CH4____20220315T095218_20220315T113349_22899_02_020301_20220317T015346.nc'\n",
    "\n",
    "converter = tiledb.cf.NetCDF4ConverterEngine.from_file(\n",
    "    file,\n",
    "    dim_dtype=np.uint32,\n",
    "    attrs_filters=[tiledb.ZstdFilter(level=7)],\n",
    ")\n",
    "converter\n"
   ],
   "metadata": {
    "collapsed": false,
    "ExecuteTime": {
     "end_time": "2023-05-15T08:09:39.619827703Z",
     "start_time": "2023-05-15T08:09:39.567309473Z"
    }
   }
  },
  {
   "cell_type": "code",
   "execution_count": 6,
   "outputs": [
    {
     "ename": "TileDBError",
     "evalue": "[TileDB::StorageManager] Error: Cannot create group; Group 'file:///home/def/Backup/Uni/Magistrale/1/Second semester/Air-Quality-Monitoring-Platform/tileDB/' already exists",
     "output_type": "error",
     "traceback": [
      "\u001B[0;31m---------------------------------------------------------------------------\u001B[0m",
      "\u001B[0;31mTileDBError\u001B[0m                               Traceback (most recent call last)",
      "Cell \u001B[0;32mIn[6], line 1\u001B[0m\n\u001B[0;32m----> 1\u001B[0m \u001B[43mconverter\u001B[49m\u001B[38;5;241;43m.\u001B[39;49m\u001B[43mconvert_to_group\u001B[49m\u001B[43m(\u001B[49m\u001B[38;5;124;43m'\u001B[39;49m\u001B[38;5;124;43m./tileDB/\u001B[39;49m\u001B[38;5;124;43m'\u001B[39;49m\u001B[43m)\u001B[49m\n",
      "File \u001B[0;32m~/Backup/Uni/Magistrale/1/Second semester/Air-Quality-Monitoring-Platform/venv/lib/python3.11/site-packages/tiledb/cf/netcdf_engine/converter.py:752\u001B[0m, in \u001B[0;36mNetCDF4ConverterEngine.convert_to_group\u001B[0;34m(self, output_uri, key, ctx, timestamp, input_netcdf_group, input_file, input_group_path, assigned_dim_values, assigned_attr_values, copy_metadata, append)\u001B[0m\n\u001B[1;32m    713\u001B[0m \u001B[38;5;28;01mdef\u001B[39;00m \u001B[38;5;21mconvert_to_group\u001B[39m(\n\u001B[1;32m    714\u001B[0m     \u001B[38;5;28mself\u001B[39m,\n\u001B[1;32m    715\u001B[0m     output_uri: \u001B[38;5;28mstr\u001B[39m,\n\u001B[0;32m   (...)\u001B[0m\n\u001B[1;32m    725\u001B[0m     append: \u001B[38;5;28mbool\u001B[39m \u001B[38;5;241m=\u001B[39m \u001B[38;5;28;01mFalse\u001B[39;00m,\n\u001B[1;32m    726\u001B[0m ):\n\u001B[1;32m    727\u001B[0m \u001B[38;5;250m    \u001B[39m\u001B[38;5;124;03m\"\"\"Creates a TileDB group and its arrays from the defined CF dataspace and\u001B[39;00m\n\u001B[1;32m    728\u001B[0m \u001B[38;5;124;03m    copies data into them using the converter engine.\u001B[39;00m\n\u001B[1;32m    729\u001B[0m \n\u001B[0;32m   (...)\u001B[0m\n\u001B[1;32m    750\u001B[0m \u001B[38;5;124;03m            append to.\u001B[39;00m\n\u001B[1;32m    751\u001B[0m \u001B[38;5;124;03m    \"\"\"\u001B[39;00m\n\u001B[0;32m--> 752\u001B[0m     \u001B[38;5;28;43mself\u001B[39;49m\u001B[38;5;241;43m.\u001B[39;49m\u001B[43mcreate_group\u001B[49m\u001B[43m(\u001B[49m\u001B[43moutput_uri\u001B[49m\u001B[43m,\u001B[49m\u001B[43m \u001B[49m\u001B[43mkey\u001B[49m\u001B[43m,\u001B[49m\u001B[43m \u001B[49m\u001B[43mctx\u001B[49m\u001B[43m,\u001B[49m\u001B[43m \u001B[49m\u001B[43mappend\u001B[49m\u001B[38;5;241;43m=\u001B[39;49m\u001B[43mappend\u001B[49m\u001B[43m)\u001B[49m\n\u001B[1;32m    753\u001B[0m     \u001B[38;5;28mself\u001B[39m\u001B[38;5;241m.\u001B[39mcopy_to_group(\n\u001B[1;32m    754\u001B[0m         output_uri\u001B[38;5;241m=\u001B[39moutput_uri,\n\u001B[1;32m    755\u001B[0m         key\u001B[38;5;241m=\u001B[39mkey,\n\u001B[0;32m   (...)\u001B[0m\n\u001B[1;32m    762\u001B[0m         copy_metadata\u001B[38;5;241m=\u001B[39mcopy_metadata,\n\u001B[1;32m    763\u001B[0m     )\n",
      "File \u001B[0;32m~/Backup/Uni/Magistrale/1/Second semester/Air-Quality-Monitoring-Platform/venv/lib/python3.11/site-packages/tiledb/cf/creator.py:249\u001B[0m, in \u001B[0;36mDataspaceCreator.create_group\u001B[0;34m(self, uri, key, ctx, append)\u001B[0m\n\u001B[1;32m    237\u001B[0m \u001B[38;5;250m\u001B[39m\u001B[38;5;124;03m\"\"\"Creates a TileDB group and arrays for the CF dataspace.\u001B[39;00m\n\u001B[1;32m    238\u001B[0m \n\u001B[1;32m    239\u001B[0m \u001B[38;5;124;03mParameters:\u001B[39;00m\n\u001B[0;32m   (...)\u001B[0m\n\u001B[1;32m    246\u001B[0m \u001B[38;5;124;03m        append to.\u001B[39;00m\n\u001B[1;32m    247\u001B[0m \u001B[38;5;124;03m\"\"\"\u001B[39;00m\n\u001B[1;32m    248\u001B[0m schema \u001B[38;5;241m=\u001B[39m \u001B[38;5;28mself\u001B[39m\u001B[38;5;241m.\u001B[39mto_schema(ctx)\n\u001B[0;32m--> 249\u001B[0m \u001B[43mGroup\u001B[49m\u001B[38;5;241;43m.\u001B[39;49m\u001B[43mcreate\u001B[49m\u001B[43m(\u001B[49m\u001B[43muri\u001B[49m\u001B[43m,\u001B[49m\u001B[43m \u001B[49m\u001B[43mschema\u001B[49m\u001B[43m,\u001B[49m\u001B[43m \u001B[49m\u001B[43mkey\u001B[49m\u001B[43m,\u001B[49m\u001B[43m \u001B[49m\u001B[43mctx\u001B[49m\u001B[43m,\u001B[49m\u001B[43m \u001B[49m\u001B[43mappend\u001B[49m\u001B[38;5;241;43m=\u001B[39;49m\u001B[43mappend\u001B[49m\u001B[43m)\u001B[49m\n",
      "File \u001B[0;32m~/Backup/Uni/Magistrale/1/Second semester/Air-Quality-Monitoring-Platform/venv/lib/python3.11/site-packages/tiledb/cf/core.py:327\u001B[0m, in \u001B[0;36mGroup.create\u001B[0;34m(cls, uri, group_schema, key, ctx, append)\u001B[0m\n\u001B[1;32m    322\u001B[0m     create_metadata_group \u001B[38;5;241m=\u001B[39m (\n\u001B[1;32m    323\u001B[0m         original_group_schema\u001B[38;5;241m.\u001B[39mmetadata_schema \u001B[38;5;129;01mis\u001B[39;00m \u001B[38;5;28;01mNone\u001B[39;00m\n\u001B[1;32m    324\u001B[0m         \u001B[38;5;129;01mand\u001B[39;00m group_schema\u001B[38;5;241m.\u001B[39mmetadata_schema \u001B[38;5;129;01mis\u001B[39;00m \u001B[38;5;129;01mnot\u001B[39;00m \u001B[38;5;28;01mNone\u001B[39;00m\n\u001B[1;32m    325\u001B[0m     )\n\u001B[1;32m    326\u001B[0m \u001B[38;5;28;01melse\u001B[39;00m:\n\u001B[0;32m--> 327\u001B[0m     \u001B[43mtiledb\u001B[49m\u001B[38;5;241;43m.\u001B[39;49m\u001B[43mgroup_create\u001B[49m\u001B[43m(\u001B[49m\u001B[43muri\u001B[49m\u001B[43m,\u001B[49m\u001B[43m \u001B[49m\u001B[43mctx\u001B[49m\u001B[43m)\u001B[49m\n\u001B[1;32m    328\u001B[0m     create_metadata_group \u001B[38;5;241m=\u001B[39m group_schema\u001B[38;5;241m.\u001B[39mmetadata_schema \u001B[38;5;129;01mis\u001B[39;00m \u001B[38;5;129;01mnot\u001B[39;00m \u001B[38;5;28;01mNone\u001B[39;00m\n\u001B[1;32m    329\u001B[0m \u001B[38;5;28;01mif\u001B[39;00m create_metadata_group:\n",
      "File \u001B[0;32m~/Backup/Uni/Magistrale/1/Second semester/Air-Quality-Monitoring-Platform/venv/lib/python3.11/site-packages/tiledb/group.py:285\u001B[0m, in \u001B[0;36mGroup.create\u001B[0;34m(uri, ctx)\u001B[0m\n\u001B[1;32m    276\u001B[0m \u001B[38;5;250m\u001B[39m\u001B[38;5;124;03m\"\"\"\u001B[39;00m\n\u001B[1;32m    277\u001B[0m \u001B[38;5;124;03mCreate a new Group.\u001B[39;00m\n\u001B[1;32m    278\u001B[0m \n\u001B[0;32m   (...)\u001B[0m\n\u001B[1;32m    282\u001B[0m \u001B[38;5;124;03m:type ctx: tiledb.Ctx\u001B[39;00m\n\u001B[1;32m    283\u001B[0m \u001B[38;5;124;03m\"\"\"\u001B[39;00m\n\u001B[1;32m    284\u001B[0m ctx \u001B[38;5;241m=\u001B[39m ctx \u001B[38;5;129;01mor\u001B[39;00m default_ctx()\n\u001B[0;32m--> 285\u001B[0m \u001B[43mlt\u001B[49m\u001B[38;5;241;43m.\u001B[39;49m\u001B[43mGroup\u001B[49m\u001B[38;5;241;43m.\u001B[39;49m\u001B[43m_create\u001B[49m\u001B[43m(\u001B[49m\u001B[43mctx\u001B[49m\u001B[43m,\u001B[49m\u001B[43m \u001B[49m\u001B[43muri\u001B[49m\u001B[43m)\u001B[49m\n",
      "\u001B[0;31mTileDBError\u001B[0m: [TileDB::StorageManager] Error: Cannot create group; Group 'file:///home/def/Backup/Uni/Magistrale/1/Second semester/Air-Quality-Monitoring-Platform/tileDB/' already exists"
     ]
    }
   ],
   "source": [
    "converter.convert_to_group('./tileDB/')"
   ],
   "metadata": {
    "collapsed": false,
    "ExecuteTime": {
     "end_time": "2023-05-15T08:09:43.197439933Z",
     "start_time": "2023-05-15T08:09:42.897781968Z"
    }
   }
  },
  {
   "cell_type": "code",
   "execution_count": 7,
   "outputs": [
    {
     "data": {
      "text/plain": "GroupSchema:\nGroup metadata schema: ArraySchema(\n  domain=Domain(*[\n    Dim(name='dim', domain=(0, 0), tile=1, dtype='int32'),\n  ]),\n  attrs=[\n    Attr(name='attr', dtype='int32', var=False, nullable=False),\n  ],\n  cell_order='row-major',\n  tile_order='row-major',\n  capacity=10000,\n  sparse=False,\n)",
      "text/html": "<section>\n<h3>GroupSchema</h3>\n<details>\n<summary>ArraySchema for Group Metadata Array</summary>\n<ul>\n<li>\nDomain\n<table>\n<tr><td style=\"text-align: left;\">Dim(name='dim', domain=(0, 0), tile=1, dtype='int32')</td></tr>\n</table>\n</li>\n<li>\nAttributes\n<table>\n<tr><td style=\"text-align: left;\">Attr(name='attr', dtype='int32', var=False, nullable=False)</td></tr>\n</table>\n</li>\n<li>\nArray properties<table>\n<tr><td style=\"text-align: left;\">cell_order=row-major</td></tr>\n<tr><td style=\"text-align: left;\">tile_order=row-major</td></tr>\n<tr><td style=\"text-align: left;\">capacity=10000</td></tr>\n<tr><td style=\"text-align: left;\">sparse=False</td></tr>\n<tr><td style=\"text-align: left\">coords_filters=FilterList([ZstdFilter(level=-1)])</td>\n</table>\n</li>\n</ul>\n</details>\n</section>\n"
     },
     "execution_count": 7,
     "metadata": {},
     "output_type": "execute_result"
    }
   ],
   "source": [
    "group_schema = tiledb.cf.GroupSchema.load('./tileDB/')\n",
    "group_schema"
   ],
   "metadata": {
    "collapsed": false,
    "ExecuteTime": {
     "end_time": "2023-05-15T08:11:02.583820005Z",
     "start_time": "2023-05-15T08:11:02.546530391Z"
    }
   }
  },
  {
   "cell_type": "code",
   "execution_count": 11,
   "outputs": [
    {
     "ename": "KeyError",
     "evalue": "\"No attribute with the name 'latitude'.\"",
     "output_type": "error",
     "traceback": [
      "\u001B[0;31m---------------------------------------------------------------------------\u001B[0m",
      "\u001B[0;31mKeyError\u001B[0m                                  Traceback (most recent call last)",
      "File \u001B[0;32m~/Backup/Uni/Magistrale/1/Second semester/Air-Quality-Monitoring-Platform/venv/lib/python3.11/site-packages/tiledb/cf/creator.py:430\u001B[0m, in \u001B[0;36mDataspaceRegistry.get_array_creator_by_attr\u001B[0;34m(self, attr_name)\u001B[0m\n\u001B[1;32m    429\u001B[0m \u001B[38;5;28;01mtry\u001B[39;00m:\n\u001B[0;32m--> 430\u001B[0m     array_name \u001B[38;5;241m=\u001B[39m \u001B[38;5;28;43mself\u001B[39;49m\u001B[38;5;241;43m.\u001B[39;49m\u001B[43m_attr_to_array\u001B[49m\u001B[43m[\u001B[49m\u001B[43mattr_name\u001B[49m\u001B[43m]\u001B[49m\n\u001B[1;32m    431\u001B[0m \u001B[38;5;28;01mexcept\u001B[39;00m \u001B[38;5;167;01mKeyError\u001B[39;00m \u001B[38;5;28;01mas\u001B[39;00m err:\n",
      "\u001B[0;31mKeyError\u001B[0m: 'latitude'",
      "\nThe above exception was the direct cause of the following exception:\n",
      "\u001B[0;31mKeyError\u001B[0m                                  Traceback (most recent call last)",
      "Cell \u001B[0;32mIn[11], line 3\u001B[0m\n\u001B[1;32m      1\u001B[0m \u001B[38;5;66;03m# Update properties manually by modifying the array creators\u001B[39;00m\n\u001B[1;32m      2\u001B[0m \u001B[38;5;66;03m# 1. Update properties for x\u001B[39;00m\n\u001B[0;32m----> 3\u001B[0m x_array \u001B[38;5;241m=\u001B[39m \u001B[43mconverter\u001B[49m\u001B[38;5;241;43m.\u001B[39;49m\u001B[43mget_array_creator_by_attr\u001B[49m\u001B[43m(\u001B[49m\u001B[38;5;124;43m\"\u001B[39;49m\u001B[38;5;124;43mlatitude\u001B[39;49m\u001B[38;5;124;43m\"\u001B[39;49m\u001B[43m)\u001B[49m\n\u001B[1;32m      4\u001B[0m x_array\u001B[38;5;241m.\u001B[39mname \u001B[38;5;241m=\u001B[39m \u001B[38;5;124m\"\u001B[39m\u001B[38;5;124mx\u001B[39m\u001B[38;5;124m\"\u001B[39m\n\u001B[1;32m      5\u001B[0m x_array\u001B[38;5;241m.\u001B[39mdomain_creator\u001B[38;5;241m.\u001B[39mtiles \u001B[38;5;241m=\u001B[39m (\u001B[38;5;241m20\u001B[39m,)\n",
      "File \u001B[0;32m~/Backup/Uni/Magistrale/1/Second semester/Air-Quality-Monitoring-Platform/venv/lib/python3.11/site-packages/tiledb/cf/creator.py:282\u001B[0m, in \u001B[0;36mDataspaceCreator.get_array_creator_by_attr\u001B[0;34m(self, attr_name)\u001B[0m\n\u001B[1;32m    276\u001B[0m \u001B[38;5;28;01mdef\u001B[39;00m \u001B[38;5;21mget_array_creator_by_attr\u001B[39m(\u001B[38;5;28mself\u001B[39m, attr_name: \u001B[38;5;28mstr\u001B[39m):\n\u001B[1;32m    277\u001B[0m \u001B[38;5;250m    \u001B[39m\u001B[38;5;124;03m\"\"\"Returns the array creator with the requested attribute in it.\u001B[39;00m\n\u001B[1;32m    278\u001B[0m \n\u001B[1;32m    279\u001B[0m \u001B[38;5;124;03m    Parameters:\u001B[39;00m\n\u001B[1;32m    280\u001B[0m \u001B[38;5;124;03m        attr_name: Name of the attribute to return the array creator with.\u001B[39;00m\n\u001B[1;32m    281\u001B[0m \u001B[38;5;124;03m    \"\"\"\u001B[39;00m\n\u001B[0;32m--> 282\u001B[0m     \u001B[38;5;28;01mreturn\u001B[39;00m \u001B[38;5;28;43mself\u001B[39;49m\u001B[38;5;241;43m.\u001B[39;49m\u001B[43m_registry\u001B[49m\u001B[38;5;241;43m.\u001B[39;49m\u001B[43mget_array_creator_by_attr\u001B[49m\u001B[43m(\u001B[49m\u001B[43mattr_name\u001B[49m\u001B[43m)\u001B[49m\n",
      "File \u001B[0;32m~/Backup/Uni/Magistrale/1/Second semester/Air-Quality-Monitoring-Platform/venv/lib/python3.11/site-packages/tiledb/cf/creator.py:432\u001B[0m, in \u001B[0;36mDataspaceRegistry.get_array_creator_by_attr\u001B[0;34m(self, attr_name)\u001B[0m\n\u001B[1;32m    430\u001B[0m     array_name \u001B[38;5;241m=\u001B[39m \u001B[38;5;28mself\u001B[39m\u001B[38;5;241m.\u001B[39m_attr_to_array[attr_name]\n\u001B[1;32m    431\u001B[0m \u001B[38;5;28;01mexcept\u001B[39;00m \u001B[38;5;167;01mKeyError\u001B[39;00m \u001B[38;5;28;01mas\u001B[39;00m err:\n\u001B[0;32m--> 432\u001B[0m     \u001B[38;5;28;01mraise\u001B[39;00m \u001B[38;5;167;01mKeyError\u001B[39;00m(\u001B[38;5;124mf\u001B[39m\u001B[38;5;124m\"\u001B[39m\u001B[38;5;124mNo attribute with the name \u001B[39m\u001B[38;5;124m'\u001B[39m\u001B[38;5;132;01m{\u001B[39;00mattr_name\u001B[38;5;132;01m}\u001B[39;00m\u001B[38;5;124m'\u001B[39m\u001B[38;5;124m.\u001B[39m\u001B[38;5;124m\"\u001B[39m) \u001B[38;5;28;01mfrom\u001B[39;00m \u001B[38;5;21;01merr\u001B[39;00m\n\u001B[1;32m    433\u001B[0m \u001B[38;5;28;01mreturn\u001B[39;00m \u001B[38;5;28mself\u001B[39m\u001B[38;5;241m.\u001B[39m_array_creators[array_name]\n",
      "\u001B[0;31mKeyError\u001B[0m: \"No attribute with the name 'latitude'.\""
     ]
    }
   ],
   "source": [
    "\n",
    "\n",
    "# Update properties manually by modifying the array creators\n",
    "# 1. Update properties for x\n",
    "x_array = converter.get_array_creator_by_attr(\"latitude\")\n",
    "x_array.name = \"x\"\n",
    "x_array.domain_creator.tiles = (20,)\n",
    "# 2. Update properties for y\n",
    "y_array = converter.get_array_creator_by_attr(\"longitude\")\n",
    "y_array.name = \"y\"\n",
    "y_array.domain_creator.tiles = (20,)\n",
    "# 3. Update properties for array of matrices\n",
    "data_array = converter.get_array_creator_by_attr(\"A1\")\n",
    "data_array.name = \"data\"\n",
    "data_array.domain_creator.tiles = (20, 20)\n",
    "converter\n",
    "\n"
   ],
   "metadata": {
    "collapsed": false,
    "ExecuteTime": {
     "end_time": "2023-05-15T08:14:18.156416408Z",
     "start_time": "2023-05-15T08:14:18.154161654Z"
    }
   }
  },
  {
   "cell_type": "code",
   "execution_count": null,
   "outputs": [],
   "source": [
    "import zarr\n",
    "\n",
    "db = zarr.open_group('./tileDB/', mode='r')\n"
   ],
   "metadata": {
    "collapsed": false
   }
  }
 ],
 "metadata": {
  "kernelspec": {
   "display_name": "Python 3",
   "language": "python",
   "name": "python3"
  },
  "language_info": {
   "codemirror_mode": {
    "name": "ipython",
    "version": 2
   },
   "file_extension": ".py",
   "mimetype": "text/x-python",
   "name": "python",
   "nbconvert_exporter": "python",
   "pygments_lexer": "ipython2",
   "version": "2.7.6"
  }
 },
 "nbformat": 4,
 "nbformat_minor": 0
}
